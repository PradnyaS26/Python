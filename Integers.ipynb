{
 "cells": [
  {
   "cell_type": "markdown",
   "id": "bc9b7d9f",
   "metadata": {
    "id": "bc9b7d9f"
   },
   "source": [
    "# Int Assignment\n",
    "** All the outputs mentioned in this executable ipynb file are executed at my end"
   ]
  },
  {
   "cell_type": "markdown",
   "id": "efXSb3-A-qCf",
   "metadata": {
    "id": "efXSb3-A-qCf"
   },
   "source": [
    " ---\n",
    "\n",
    "Q.1) Declare an int value and store it in a variable. Check the type and print the id of the same.\n"
   ]
  },
  {
   "cell_type": "code",
   "execution_count": null,
   "id": "7dbfe830",
   "metadata": {
    "colab": {
     "base_uri": "https://localhost:8080/"
    },
    "executionInfo": {
     "elapsed": 448,
     "status": "ok",
     "timestamp": 1718373786595,
     "user": {
      "displayName": "pradnya suryavanshi",
      "userId": "08507243519753346158"
     },
     "user_tz": -330
    },
    "id": "7dbfe830",
    "outputId": "14f24f2f-402c-4945-a055-27116a51ad76"
   },
   "outputs": [
    {
     "name": "stdout",
     "output_type": "stream",
     "text": [
      "<class 'int'>\n",
      "137123055354800\n"
     ]
    }
   ],
   "source": [
    "int1 = 23\n",
    "print(type(int1))\n",
    "print(id(int1))\n",
    "\n",
    "# Output :\n",
    "#     <class 'int'>\n",
    "#     137123055354800"
   ]
  },
  {
   "cell_type": "markdown",
   "id": "83m-ZzYQ-vQy",
   "metadata": {
    "id": "83m-ZzYQ-vQy"
   },
   "source": [
    "\n",
    "\n",
    "---\n",
    "\n",
    "\n",
    "Q.2) Take one int value between 0 - 256. Assign it to two different variables.\n",
    "Check the id of both the variables. It should come the same. Check why?"
   ]
  },
  {
   "cell_type": "code",
   "execution_count": null,
   "id": "d4cf1110",
   "metadata": {
    "colab": {
     "base_uri": "https://localhost:8080/"
    },
    "executionInfo": {
     "elapsed": 457,
     "status": "ok",
     "timestamp": 1718373942957,
     "user": {
      "displayName": "pradnya suryavanshi",
      "userId": "08507243519753346158"
     },
     "user_tz": -330
    },
    "id": "d4cf1110",
    "outputId": "99e0a657-da91-42d3-c287-e6d87375b27a"
   },
   "outputs": [
    {
     "name": "stdout",
     "output_type": "stream",
     "text": [
      "int2 id : 137123055355504 \n",
      "int3 id : 137123055355504\n"
     ]
    }
   ],
   "source": [
    "int2 = 45\n",
    "int3 = 45\n",
    "print(\"int2 id : {} \\nint3 id : {}\".format(id(int2),id(int3)))\n",
    "\n",
    "# Output :\n",
    "#     int2 id : 137123055355504\n",
    "#     int3 id : 137123055355504\n",
    "# The ids of both the int variables are same\n",
    "# because python machine resuses the value reference in the heap for the values between -5 - 256.\n",
    "# This concept is called Object reusability.\n"
   ]
  },
  {
   "cell_type": "markdown",
   "id": "wLNP83Wa-6Hm",
   "metadata": {
    "id": "wLNP83Wa-6Hm"
   },
   "source": [
    "---\n",
    "\n",
    "Q.3) Take one int value either less than -5 or greater than 256.\n",
    "\n",
    "Assign it to two different variables.\n",
    "\n",
    "Check the id of both the variables. It should come different.Check why?"
   ]
  },
  {
   "cell_type": "code",
   "execution_count": null,
   "id": "Xj7krmIpEH5W",
   "metadata": {
    "colab": {
     "base_uri": "https://localhost:8080/"
    },
    "executionInfo": {
     "elapsed": 506,
     "status": "ok",
     "timestamp": 1718375901619,
     "user": {
      "displayName": "pradnya suryavanshi",
      "userId": "08507243519753346158"
     },
     "user_tz": -330
    },
    "id": "Xj7krmIpEH5W",
    "outputId": "a502090b-7546-4157-e7a1-daa90ef4afa0"
   },
   "outputs": [
    {
     "name": "stdout",
     "output_type": "stream",
     "text": [
      "int4 id : 137122627287920 \n",
      "int5 id : 137122627288208\n"
     ]
    }
   ],
   "source": [
    "int4 = 266\n",
    "int5 = 266\n",
    "print(\"int4 id : {} \\nint5 id : {}\".format(id(int4),id(int5)))\n",
    "\n",
    "# Output :\n",
    "#     int4 id : 137122627287920\n",
    "#     int5 id : 137122627288208\n",
    "# The ids of both the int variables differ\n",
    "# because python machine resuses the value reference in the heap for the values in the range of 0 - 256\n",
    "# but these variables have values outside the range of 0 - 256\n",
    "# This concept is called Object reusability."
   ]
  },
  {
   "cell_type": "markdown",
   "id": "AMbKxZNQ--oM",
   "metadata": {
    "id": "AMbKxZNQ--oM"
   },
   "source": [
    "---\n",
    "\n",
    "Q.4) Arithmetic Operations on integers.\n",
    "\n",
    "Take two different integer values.\n",
    "Store them in two different variables.\n",
    "\n",
    "Do below operations on them:-\n",
    "\n",
    "* Find sum of both numbers\n",
    "* Find difference between\n",
    "* Find the product of both numbers.\n",
    "* Find value after dividing first num with second number\n",
    "* Find the remainder after dividing first number with second number\n",
    "* Find the quotient after dividing first number with second number\n",
    "* Find the result of the first num to the power of the second number."
   ]
  },
  {
   "cell_type": "code",
   "execution_count": null,
   "id": "7M8S8FckEJUE",
   "metadata": {
    "colab": {
     "base_uri": "https://localhost:8080/"
    },
    "executionInfo": {
     "elapsed": 456,
     "status": "ok",
     "timestamp": 1718378389501,
     "user": {
      "displayName": "pradnya suryavanshi",
      "userId": "08507243519753346158"
     },
     "user_tz": -330
    },
    "id": "7M8S8FckEJUE",
    "outputId": "66cda92d-d0e1-4f2b-cb61-e50eb3fa82d0"
   },
   "outputs": [
    {
     "name": "stdout",
     "output_type": "stream",
     "text": [
      "Sum : 18\n",
      "Difference : -2\n",
      "Product : 80\n",
      "Floor Division : 0\n",
      "Remainder : 8\n",
      "Quotient : 0.8\n",
      "Exponential : 1073741824\n"
     ]
    }
   ],
   "source": [
    "int6 = 8\n",
    "int7 = 10\n",
    "sum = int6 + int7\n",
    "difference = int6 - int7\n",
    "product = int6 * int7\n",
    "floorDivision = int6 // int7\n",
    "remainder = int6 % int7\n",
    "quotient = int6 / int7\n",
    "exponential = int6 ** int7\n",
    "print(\"Sum : {}\".format(sum))\n",
    "print(\"Difference : {}\".format(difference))\n",
    "print(\"Product : {}\".format(product))\n",
    "print(\"Floor Division : {}\".format(floorDivision))\n",
    "print(\"Remainder : {}\".format(remainder))\n",
    "print(\"Quotient : {}\".format(quotient))\n",
    "print(\"Exponential : {}\".format(exponential))\n",
    "\n",
    "# Output :\n",
    "#   Sum : 18\n",
    "#   Difference : -2\n",
    "#   Product : 80\n",
    "#   Floor Division : 0\n",
    "#   Remainder : 8\n",
    "#   Quotient : 0.8\n",
    "#   Exponential : 1073741824"
   ]
  },
  {
   "cell_type": "markdown",
   "id": "1ts3a1Hl_C0O",
   "metadata": {
    "id": "1ts3a1Hl_C0O"
   },
   "source": [
    "---\n",
    "\n",
    "Q.5) Comparison Operators on integers\n",
    "\n",
    "Take two different integer values.\n",
    "Store them in two different variables.\n",
    "\n",
    "Do below operations on them:-\n",
    "\n",
    "Compare the two numbers with below operator:-\n",
    "* Greater than, '>'\n",
    "* Smaller than, '<'\n",
    "* Greater than or equal to, '>='\n",
    "* Less than or equal to, '<='\n",
    "\n",
    "Observe their output(return type should be boolean)"
   ]
  },
  {
   "cell_type": "code",
   "execution_count": null,
   "id": "nEvU2MchEK2f",
   "metadata": {
    "colab": {
     "base_uri": "https://localhost:8080/"
    },
    "executionInfo": {
     "elapsed": 514,
     "status": "ok",
     "timestamp": 1718379277653,
     "user": {
      "displayName": "pradnya suryavanshi",
      "userId": "08507243519753346158"
     },
     "user_tz": -330
    },
    "id": "nEvU2MchEK2f",
    "outputId": "1be854f6-7745-4ce8-cb16-386d1c78a8fe"
   },
   "outputs": [
    {
     "name": "stdout",
     "output_type": "stream",
     "text": [
      "int8 > int9 : False\n",
      "int8 < int9 : True\n",
      "int8 >= int9 : False\n",
      "int8 <= int9 : True\n"
     ]
    }
   ],
   "source": [
    "int8 = 6\n",
    "int9 = 9\n",
    "print(\"int8 > int9 : {}\".format(int8 > int9))\n",
    "print(\"int8 < int9 : {}\".format(int8 < int9))\n",
    "print(\"int8 >= int9 : {}\".format(int8 >= int9))\n",
    "print(\"int8 <= int9 : {}\".format(int8 <= int9))\n",
    "\n",
    "# Output :\n",
    "#   int8 > int9 : False\n",
    "#   int8 < int9 : True\n",
    "#   int8 >= int9 : False\n",
    "#   int8 <= int9 : True"
   ]
  },
  {
   "cell_type": "markdown",
   "id": "oL5JrMe6_Hbs",
   "metadata": {
    "id": "oL5JrMe6_Hbs"
   },
   "source": [
    "---\n",
    "\n",
    "Q.6) Equality Operator\n",
    "\n",
    "Take two different integer values.Store them in two different variables.\n",
    "\n",
    "Equate them using equality operators (==, !=).\n",
    "Observe the output(return type should be boolean)"
   ]
  },
  {
   "cell_type": "code",
   "execution_count": null,
   "id": "pl0RAI79sN5X",
   "metadata": {
    "colab": {
     "base_uri": "https://localhost:8080/"
    },
    "executionInfo": {
     "elapsed": 473,
     "status": "ok",
     "timestamp": 1718384449033,
     "user": {
      "displayName": "pradnya suryavanshi",
      "userId": "08507243519753346158"
     },
     "user_tz": -330
    },
    "id": "pl0RAI79sN5X",
    "outputId": "e0169728-eefb-47e5-e5ed-c1605fce2888"
   },
   "outputs": [
    {
     "name": "stdout",
     "output_type": "stream",
     "text": [
      "int9 == int10 : False\n",
      "int9 != int10 : True\n"
     ]
    }
   ],
   "source": [
    "int9 = 20\n",
    "int10 = 10\n",
    "print(\"int9 == int10 : {}\".format(int9 == int10))\n",
    "print(\"int9 != int10 : {}\".format(int9 != int10))\n",
    "\n",
    "# Output :\n",
    "# int9 == int10 : False\n",
    "# int9 != int10 : True"
   ]
  },
  {
   "cell_type": "markdown",
   "id": "vqn70SJV_Jvz",
   "metadata": {
    "id": "vqn70SJV_Jvz"
   },
   "source": [
    "---\n",
    "\n",
    "Q.7) Logical operators\n",
    "\n",
    "Observe the output of below code\n",
    "\n",
    "Cross check the output manually\n",
    "* print(10 and 20) ->Output is 20\n",
    "* print(0 and 20) ->Output is 0\n",
    "* print(20 and 0) ->Output is 0\n",
    "* print(0 and 0) ->Output is 0\n",
    "* print(10 or 20) ->Output is 10\n",
    "* print(0 or 20) -> Output is 20\n",
    "* print(20 or 0) ->Output is 20\n",
    "* print(0 or 0) ->Output is 0\n",
    "* print(not 10) ->Output is False\n",
    "* print(not 0) ->Output is True"
   ]
  },
  {
   "cell_type": "code",
   "execution_count": null,
   "id": "kpA9HOyMsth-",
   "metadata": {
    "colab": {
     "base_uri": "https://localhost:8080/"
    },
    "executionInfo": {
     "elapsed": 460,
     "status": "ok",
     "timestamp": 1718385910250,
     "user": {
      "displayName": "pradnya suryavanshi",
      "userId": "08507243519753346158"
     },
     "user_tz": -330
    },
    "id": "kpA9HOyMsth-",
    "outputId": "950b84b9-3ad1-494f-d3e0-755a11810da7"
   },
   "outputs": [
    {
     "name": "stdout",
     "output_type": "stream",
     "text": [
      "10 and 20 : 20\n",
      "0 and 20 : 0\n",
      "20 and 0 : 0\n",
      "0 and 0 : 0\n",
      "\n",
      "10 or 20 : 10\n",
      "0 or 20 : 20\n",
      "20 or 0 : 20\n",
      "0 or 0 : 0\n",
      "\n",
      "not 10 : False\n",
      "not 0 : True\n"
     ]
    }
   ],
   "source": [
    "print(\"10 and 20 : {}\".format(10 and 20))\n",
    "print(\"0 and 20 : {}\".format(0 and 20))\n",
    "print(\"20 and 0 : {}\".format(20 and 0))\n",
    "print(\"0 and 0 : {}\\n\".format(0 and 0))\n",
    "\n",
    "print(\"10 or 20 : {}\".format(10 or 20))\n",
    "print(\"0 or 20 : {}\".format(0 or 20))\n",
    "print(\"20 or 0 : {}\".format(20 or 0))\n",
    "print(\"0 or 0 : {}\\n\".format(0 or 0))\n",
    "\n",
    "print(\"not 10 : {}\".format(not 10))\n",
    "print(\"not 0 : {}\".format(not 0))\n",
    "\n",
    "# Output :\n",
    "# 10 and 20 : 20 // and operator returns the second operand if the first operand is false value\n",
    "# 0 and 20 : 0\n",
    "# 20 and 0 : 0\n",
    "# 0 and 0 : 0\n",
    "\n",
    "# 10 or 20 : 10 // or operator returns the first operand if the first operand is true value\n",
    "# 0 or 20 : 20\n",
    "# 20 or 0 : 20\n",
    "# 0 or 0 : 0\n",
    "\n",
    "# not 10 : False // not operator returns the opposite of the operand\n",
    "# not 0 : True"
   ]
  },
  {
   "cell_type": "markdown",
   "id": "LAcW0aWz_MDz",
   "metadata": {
    "id": "LAcW0aWz_MDz"
   },
   "source": [
    "---\n",
    "\n",
    "Q.8) Bitwise Operators\n",
    "\n",
    "Do below operations on the values provided below:-\n",
    "\n",
    "* Bitwise and(&) -> 10, 20 -> Output is 0\n",
    "* Bitwise or(|) -> 10, 20 -> Output is 30\n",
    "* Bitwise(^) -> 10, 20 -> Output is 30\n",
    "* Bitwise negation(~) -> 10 -> Output is -11\n",
    "* Bitwise left shift -> 10,2 -> Output is 40\n",
    "* Bitwise right shift -> 10,2 -> Output is 2\n",
    "\n",
    "Cross check the output manually\n"
   ]
  },
  {
   "cell_type": "code",
   "execution_count": null,
   "id": "CT7i-VLSzTmf",
   "metadata": {
    "colab": {
     "base_uri": "https://localhost:8080/"
    },
    "executionInfo": {
     "elapsed": 509,
     "status": "ok",
     "timestamp": 1718386372085,
     "user": {
      "displayName": "pradnya suryavanshi",
      "userId": "08507243519753346158"
     },
     "user_tz": -330
    },
    "id": "CT7i-VLSzTmf",
    "outputId": "dc5e0a08-500e-4946-de8b-e81c358ecd2d"
   },
   "outputs": [
    {
     "name": "stdout",
     "output_type": "stream",
     "text": [
      "10 & 20 : 0\n",
      "10 | 20 : 30\n",
      "10 ^ 20 : 30\n",
      "~10 : -11\n",
      "10 << 2 : 40\n",
      "10 >> 2 : 2\n"
     ]
    }
   ],
   "source": [
    "print(\"10 & 20 : {}\".format(10 & 20))\n",
    "print(\"10 | 20 : {}\".format(10 | 20))\n",
    "print(\"10 ^ 20 : {}\".format(10 ^ 20))\n",
    "print(\"~10 : {}\".format(~10))\n",
    "print(\"10 << 2 : {}\".format(10 << 2))\n",
    "print(\"10 >> 2 : {}\".format(10 >> 2))\n",
    "\n",
    "# Output :\n",
    "\n",
    "# 10 & 20 : 0\n",
    "# 10 | 20 : 30\n",
    "# 10 ^ 20 : 30\n",
    "# ~10 : -11\n",
    "# 10 << 2 : 40\n",
    "# 10 >> 2 : 2\n",
    "\n",
    "# Bitwise Operators operate on Binary representation of the given decimal numbers"
   ]
  },
  {
   "cell_type": "markdown",
   "id": "NhcN8mhJ_RPv",
   "metadata": {
    "id": "NhcN8mhJ_RPv"
   },
   "source": [
    "---\n",
    "\n",
    "Q.9) What is the output of expression inside print statement. Cross check before running the program.\n",
    "\n",
    "1. a = 10\n",
    "\n",
    " b = 10\n",
    "\n",
    "  print(a is b) #True or False?\n",
    "  \n",
    "  print(a is not b) #True or False?\n",
    "\n",
    "2. a = 1000\n",
    "\n",
    "  b = 1000\n",
    "\n",
    "  print(a is b) #True or False?\n",
    "\n",
    "  print(a is not b) #True or False?"
   ]
  },
  {
   "cell_type": "code",
   "execution_count": null,
   "id": "YUCVpxwR0HLd",
   "metadata": {
    "colab": {
     "base_uri": "https://localhost:8080/"
    },
    "executionInfo": {
     "elapsed": 462,
     "status": "ok",
     "timestamp": 1718386768720,
     "user": {
      "displayName": "pradnya suryavanshi",
      "userId": "08507243519753346158"
     },
     "user_tz": -330
    },
    "id": "YUCVpxwR0HLd",
    "outputId": "9ee30ea2-b966-4f0a-8556-ab2bdea9d56d"
   },
   "outputs": [
    {
     "name": "stdout",
     "output_type": "stream",
     "text": [
      "a is b : True\n",
      "a is not b : False\n",
      "\n",
      "a is b : False\n",
      "a is not b : True\n"
     ]
    }
   ],
   "source": [
    "# case 1\n",
    "a = 10\n",
    "b = 10\n",
    "print(\"a is b : {}\".format(a is b))\n",
    "print(\"a is not b : {}\\n\".format(a is not b))\n",
    "\n",
    "# case 1\n",
    "a = 1000\n",
    "b = 1000\n",
    "print(\"a is b : {}\".format(a is b))\n",
    "print(\"a is not b : {}\".format(a is not b))\n",
    "\n",
    "# Output\n",
    "\n",
    "# a is b : True\n",
    "# a is not b : False\n",
    "\n",
    "# a is b : False\n",
    "# a is not b : True\n",
    "\n",
    "# Identity Operators check if the two variables refer to the same object in heap"
   ]
  },
  {
   "cell_type": "markdown",
   "id": "PbqajDHw_0Uq",
   "metadata": {
    "id": "PbqajDHw_0Uq"
   },
   "source": [
    "Q.10) What is the output of expression inside print statement. Cross check before running the program.\n",
    "\n",
    "print(10+(10 * 32)//2**5&20+(~(-10))<<2)"
   ]
  },
  {
   "cell_type": "code",
   "execution_count": null,
   "id": "EaEIJbSJ2Kzj",
   "metadata": {
    "colab": {
     "base_uri": "https://localhost:8080/"
    },
    "executionInfo": {
     "elapsed": 418,
     "status": "ok",
     "timestamp": 1718387419814,
     "user": {
      "displayName": "pradnya suryavanshi",
      "userId": "08507243519753346158"
     },
     "user_tz": -330
    },
    "id": "EaEIJbSJ2Kzj",
    "outputId": "1e5cfdc6-bb61-4af3-a167-17f83fa7fb41"
   },
   "outputs": [
    {
     "name": "stdout",
     "output_type": "stream",
     "text": [
      "20\n"
     ]
    }
   ],
   "source": [
    "print(10+(10*32)//2**5&20+(~(-10))<<2)\n",
    "\n",
    "# Output :\n",
    "\n",
    "# 20\n"
   ]
  },
  {
   "cell_type": "markdown",
   "id": "VL5gMuHG_2jG",
   "metadata": {
    "id": "VL5gMuHG_2jG"
   },
   "source": [
    "Q.11) Membership operation\n",
    "in, not in are two membership operators and it returns boolean value\n",
    "\n",
    "* print('2' in 'Python2.7.8')\n",
    "* print(10 in [10,10.20,10+20j,'Python'])\n",
    "* print(10 in (10,10.20,10+20j,'Python'))\n",
    "* print(2 in {1,2,3})\n",
    "* print(3 in {1:100, 2:200, 3:300})\n",
    "* print(10 in range(20))"
   ]
  },
  {
   "cell_type": "code",
   "execution_count": null,
   "id": "ioKMezfP5z96",
   "metadata": {
    "colab": {
     "base_uri": "https://localhost:8080/"
    },
    "executionInfo": {
     "elapsed": 542,
     "status": "ok",
     "timestamp": 1718388001921,
     "user": {
      "displayName": "pradnya suryavanshi",
      "userId": "08507243519753346158"
     },
     "user_tz": -330
    },
    "id": "ioKMezfP5z96",
    "outputId": "937b8d31-08d1-4b77-8986-fc4803c4cc90"
   },
   "outputs": [
    {
     "name": "stdout",
     "output_type": "stream",
     "text": [
      "True\n",
      "True\n",
      "True\n",
      "True\n",
      "True\n",
      "True\n"
     ]
    }
   ],
   "source": [
    "print('2' in 'Python2.7.8')\n",
    "print(10 in [10,10.20,10+20j,'Python'])\n",
    "print(10 in (10,10.20,10+20j,'Python'))\n",
    "print(2 in {1,2,3})\n",
    "print(3 in {1:100, 2:200, 3:300})\n",
    "print(10 in range(20))\n",
    "\n",
    "# Output :\n",
    "\n",
    "# True\n",
    "# True\n",
    "# True\n",
    "# True\n",
    "# True\n",
    "# True\n",
    "\n",
    "# Membership operator return True if given value exists in the given sequence"
   ]
  },
  {
   "cell_type": "markdown",
   "id": "MJ5fcWUj_9fr",
   "metadata": {
    "id": "MJ5fcWUj_9fr"
   },
   "source": [
    "Q.12) An integer can be represented in binary, octal or hexadecimal form.\n",
    "\n",
    "Declare one binary, one octal and one hexadecimal value and store them in three different variables.\n",
    "\n",
    "Convert 9876 to its binary, octal and hexadecimal equivalent and print their corresponding value."
   ]
  },
  {
   "cell_type": "code",
   "execution_count": null,
   "id": "c2_GyV2j6yXt",
   "metadata": {
    "colab": {
     "base_uri": "https://localhost:8080/"
    },
    "executionInfo": {
     "elapsed": 424,
     "status": "ok",
     "timestamp": 1718388494875,
     "user": {
      "displayName": "pradnya suryavanshi",
      "userId": "08507243519753346158"
     },
     "user_tz": -330
    },
    "id": "c2_GyV2j6yXt",
    "outputId": "a8079af3-b471-43ab-e51c-474d51ce85bc"
   },
   "outputs": [
    {
     "name": "stdout",
     "output_type": "stream",
     "text": [
      "Binary of 9876 : 0b10011010010100\n",
      "Octal of 9876 : 0o23224\n",
      "Hexadecimal of 9876 : 0x2694\n"
     ]
    }
   ],
   "source": [
    "binValue = \"0b101\" #5\n",
    "octalValue = \"0o11\" #11\n",
    "hexValue = \"0x4\" #6\n",
    "\n",
    "print (\"Binary of 9876 : {}\".format(bin(9876)))\n",
    "print (\"Octal of 9876 : {}\".format(oct(9876)))\n",
    "print (\"Hexadecimal of 9876 : {}\".format(hex(9876)))\n",
    "\n",
    "#Output :\n",
    "\n",
    "# Binary of 9876 : 0b10011010010100\n",
    "# Octal of 9876 : 0o23224\n",
    "# Hexadecimal of 9876 : 0x2694"
   ]
  },
  {
   "cell_type": "markdown",
   "id": "3Fk9i-5ZAAEB",
   "metadata": {
    "id": "3Fk9i-5ZAAEB"
   },
   "source": [
    "Q. What will be the output of following:-\n",
    "\n",
    "* a = 0b1010000 print(a)\n",
    "* b = 0o7436 print(b)\n",
    "* c = 0xfade print(c)\n",
    "\n",
    "* print(bin(80))\n",
    "* print(oct(3870))\n",
    "* print(hex(64222))\n",
    "* print(bin(0b1010000))\n",
    "* print(bin(0xfade))\n",
    "* print(oct(0xfade))\n",
    "* print(oct(0o7436))\n",
    "* print(hex(0b1010000))\n",
    "* print(hex(0xfade))"
   ]
  },
  {
   "cell_type": "code",
   "execution_count": null,
   "id": "Mlve2RtH8YOy",
   "metadata": {
    "colab": {
     "base_uri": "https://localhost:8080/"
    },
    "executionInfo": {
     "elapsed": 529,
     "status": "ok",
     "timestamp": 1718388763308,
     "user": {
      "displayName": "pradnya suryavanshi",
      "userId": "08507243519753346158"
     },
     "user_tz": -330
    },
    "id": "Mlve2RtH8YOy",
    "outputId": "0932f772-fb2f-4212-a69c-763c02a8b178"
   },
   "outputs": [
    {
     "name": "stdout",
     "output_type": "stream",
     "text": [
      "80\n",
      "\n",
      "\n",
      "3870\n",
      "\n",
      "\n",
      "64222\n",
      "\n",
      "\n",
      "0b1010000\n",
      "0o7436\n",
      "0xfade\n",
      "0b1010000\n",
      "0b1111101011011110\n",
      "0o175336\n",
      "0o7436\n",
      "0x50\n",
      "0xfade\n"
     ]
    }
   ],
   "source": [
    "a = 0b1010000\n",
    "print(a)\n",
    "print(\"\\n\")\n",
    "\n",
    "b = 0o7436\n",
    "print(b)\n",
    "print(\"\\n\")\n",
    "\n",
    "\n",
    "c = 0xfade\n",
    "print(c)\n",
    "print(\"\\n\")\n",
    "\n",
    "print(bin(80))\n",
    "print(oct(3870))\n",
    "print(hex(64222))\n",
    "print(bin(0b1010000))\n",
    "print(bin(0xfade))\n",
    "print(oct(0xfade))\n",
    "print(oct(0o7436))\n",
    "print(hex(0b1010000))\n",
    "print(hex(0xfade))\n",
    "\n",
    "# Output :\n",
    "\n",
    "# 80\n",
    "\n",
    "\n",
    "# 3870\n",
    "\n",
    "\n",
    "# 64222\n",
    "\n",
    "\n",
    "# 0b1010000\n",
    "# 0o7436\n",
    "# 0xfade\n",
    "# 0b1010000\n",
    "# 0b1111101011011110\n",
    "# 0o175336\n",
    "# 0o7436\n",
    "# 0x50\n",
    "# 0xfade"
   ]
  }
 ],
 "metadata": {
  "accelerator": "GPU",
  "colab": {
   "gpuType": "T4",
   "provenance": []
  },
  "kernelspec": {
   "display_name": "Python 3",
   "name": "python3"
  },
  "language_info": {
   "codemirror_mode": {
    "name": "ipython",
    "version": 3
   },
   "file_extension": ".py",
   "mimetype": "text/x-python",
   "name": "python",
   "nbconvert_exporter": "python",
   "pygments_lexer": "ipython3",
   "version": "3.11.7"
  }
 },
 "nbformat": 4,
 "nbformat_minor": 5
}
